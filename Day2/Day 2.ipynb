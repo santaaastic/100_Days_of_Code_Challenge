{
 "cells": [
  {
   "cell_type": "markdown",
   "id": "200d6efa",
   "metadata": {},
   "source": [
    "# Day 2"
   ]
  },
  {
   "cell_type": "markdown",
   "id": "16fbf368",
   "metadata": {},
   "source": [
    "Understanding concepts agenda:\n",
    "    1. Encoding Categorical data"
   ]
  },
  {
   "cell_type": "markdown",
   "id": "47437ff0",
   "metadata": {},
   "source": [
    "# 1. Encoding Categorical Data"
   ]
  },
  {
   "cell_type": "markdown",
   "id": "2a03040f",
   "metadata": {},
   "source": [
    "What---- Categorical data is not fed into the machine learning model directly and thus it is assigned some dummy values. This is called the process of encoding.\n",
    "\n",
    "Why---- There are two primary reasons-- \n",
    "    1. If there are categories in dataset say yes/no then there may be instances where one category has more weight in predicting the output than the other. If the variables are categorical you cannot add weights in the dataset even if you know that one variable has more predictive capabilities than the other. Moreover categorical values cannot be used in the mathematical equations which are the skeletons for the machine learning models.\n",
    "   2 . All variables become of same type which reduces hassles when dealing with the machine learning model in the future stages. Also remember that the machine learning models are designes such that the input and output both are numerical data. categorical data cannot be interpreted by machines.\n",
    "\n",
    "How---  To encode the categorical variables we need to first identify which variables are categorical and which are continuous inside our dataset. \n",
    "\n",
    "Categorical variables have less number of unique values in the column whereas continuous variables have many unque values.\n",
    "\n",
    "In sklearn.preprocessing library there is a class Encoder() which helps in encoding the categorical variables.\n",
    "\n",
    "When-- Encoding of categorical variable is generally done in data preprocessing stage itself.\n",
    "\n",
    "Learning path-- we will import a dataset-- identify the categorical variables in it and then encode the categorical variables.\n",
    "\n",
    "Concept to be understood:\n",
    "\n",
    "Categorical variables are of three types -- ordinal(can be ranked), nominal(cannot be ranked) and boolean(two values- say yes/no).\n",
    "\n"
   ]
  },
  {
   "cell_type": "markdown",
   "id": "743bba75",
   "metadata": {},
   "source": [
    "There are three main methods of encoding:\n",
    "\n",
    "    1. Label Encoding-- done for ordinal datasets -- every class of the categorical variable column is assigned a number starting from 0-- disadvantage: since the encoding starts from 0 there is an issue of priority even though the variables have equal weightage.\n",
    "    \n",
    "    \n",
    "    2. One Hot Encoding--done for nominal datasets(where rank has no value)-- integers assigned in label encoding method are converted into binary variable array-- wach bit of the array represents a category-- requires label encoding to be done first.. suppose label encoder assigned  female-1 and male -0, one hot encoding assigns female- [0,1], male- [1,0]-- disadvantage: problem of redundancy-- if one is 1,0 the other automatically becomes 0 1 and thus we lose some efficiency there.\n",
    "    \n",
    "    \n",
    "    3. Dummy Variable Encoding-- problem of redundancy is removed in dummy variable code encoding as it assigns one of the categories as [0,0].. so if there are n categories there are only n-1 dummy variables created as one of the categories is set to 0,0\n"
   ]
  },
  {
   "cell_type": "markdown",
   "id": "351fa624",
   "metadata": {},
   "source": [
    "# Importing the dataset"
   ]
  },
  {
   "cell_type": "markdown",
   "id": "b218a0ab",
   "metadata": {},
   "source": [
    "Dataset source: https://www.kaggle.com/datasets/aryanfelix/bangalore-housing-prices"
   ]
  },
  {
   "cell_type": "code",
   "execution_count": 60,
   "id": "43a73488",
   "metadata": {},
   "outputs": [],
   "source": [
    "import pandas as pd\n",
    "import numpy as np\n",
    "import matplotlib.pyplot as plt\n",
    "import seaborn as sns"
   ]
  },
  {
   "cell_type": "code",
   "execution_count": 61,
   "id": "2885be71",
   "metadata": {},
   "outputs": [],
   "source": [
    "ds=pd.read_csv('C:/Users/Shantanu/Documents/DataScience_Projects/100 Days of code challenge/Day2/housing price ds/BHP.csv')"
   ]
  },
  {
   "cell_type": "code",
   "execution_count": 62,
   "id": "c5812f3c",
   "metadata": {},
   "outputs": [
    {
     "data": {
      "text/html": [
       "<div>\n",
       "<style scoped>\n",
       "    .dataframe tbody tr th:only-of-type {\n",
       "        vertical-align: middle;\n",
       "    }\n",
       "\n",
       "    .dataframe tbody tr th {\n",
       "        vertical-align: top;\n",
       "    }\n",
       "\n",
       "    .dataframe thead th {\n",
       "        text-align: right;\n",
       "    }\n",
       "</style>\n",
       "<table border=\"1\" class=\"dataframe\">\n",
       "  <thead>\n",
       "    <tr style=\"text-align: right;\">\n",
       "      <th></th>\n",
       "      <th>area_type</th>\n",
       "      <th>availability</th>\n",
       "      <th>location</th>\n",
       "      <th>size</th>\n",
       "      <th>society</th>\n",
       "      <th>total_sqft</th>\n",
       "      <th>bath</th>\n",
       "      <th>balcony</th>\n",
       "      <th>price</th>\n",
       "    </tr>\n",
       "  </thead>\n",
       "  <tbody>\n",
       "    <tr>\n",
       "      <th>0</th>\n",
       "      <td>Super built-up  Area</td>\n",
       "      <td>19-Dec</td>\n",
       "      <td>Electronic City Phase II</td>\n",
       "      <td>2 BHK</td>\n",
       "      <td>Coomee</td>\n",
       "      <td>1056</td>\n",
       "      <td>2.0</td>\n",
       "      <td>1.0</td>\n",
       "      <td>39.07</td>\n",
       "    </tr>\n",
       "    <tr>\n",
       "      <th>1</th>\n",
       "      <td>Plot  Area</td>\n",
       "      <td>Ready To Move</td>\n",
       "      <td>Chikka Tirupathi</td>\n",
       "      <td>4 Bedroom</td>\n",
       "      <td>Theanmp</td>\n",
       "      <td>2600</td>\n",
       "      <td>5.0</td>\n",
       "      <td>3.0</td>\n",
       "      <td>120.00</td>\n",
       "    </tr>\n",
       "    <tr>\n",
       "      <th>2</th>\n",
       "      <td>Built-up  Area</td>\n",
       "      <td>Ready To Move</td>\n",
       "      <td>Uttarahalli</td>\n",
       "      <td>3 BHK</td>\n",
       "      <td>NaN</td>\n",
       "      <td>1440</td>\n",
       "      <td>2.0</td>\n",
       "      <td>3.0</td>\n",
       "      <td>62.00</td>\n",
       "    </tr>\n",
       "    <tr>\n",
       "      <th>3</th>\n",
       "      <td>Super built-up  Area</td>\n",
       "      <td>Ready To Move</td>\n",
       "      <td>Lingadheeranahalli</td>\n",
       "      <td>3 BHK</td>\n",
       "      <td>Soiewre</td>\n",
       "      <td>1521</td>\n",
       "      <td>3.0</td>\n",
       "      <td>1.0</td>\n",
       "      <td>95.00</td>\n",
       "    </tr>\n",
       "    <tr>\n",
       "      <th>4</th>\n",
       "      <td>Super built-up  Area</td>\n",
       "      <td>Ready To Move</td>\n",
       "      <td>Kothanur</td>\n",
       "      <td>2 BHK</td>\n",
       "      <td>NaN</td>\n",
       "      <td>1200</td>\n",
       "      <td>2.0</td>\n",
       "      <td>1.0</td>\n",
       "      <td>51.00</td>\n",
       "    </tr>\n",
       "  </tbody>\n",
       "</table>\n",
       "</div>"
      ],
      "text/plain": [
       "              area_type   availability                  location       size  \\\n",
       "0  Super built-up  Area         19-Dec  Electronic City Phase II      2 BHK   \n",
       "1            Plot  Area  Ready To Move          Chikka Tirupathi  4 Bedroom   \n",
       "2        Built-up  Area  Ready To Move               Uttarahalli      3 BHK   \n",
       "3  Super built-up  Area  Ready To Move        Lingadheeranahalli      3 BHK   \n",
       "4  Super built-up  Area  Ready To Move                  Kothanur      2 BHK   \n",
       "\n",
       "   society total_sqft  bath  balcony   price  \n",
       "0  Coomee        1056   2.0      1.0   39.07  \n",
       "1  Theanmp       2600   5.0      3.0  120.00  \n",
       "2      NaN       1440   2.0      3.0   62.00  \n",
       "3  Soiewre       1521   3.0      1.0   95.00  \n",
       "4      NaN       1200   2.0      1.0   51.00  "
      ]
     },
     "execution_count": 62,
     "metadata": {},
     "output_type": "execute_result"
    }
   ],
   "source": [
    "ds.head()"
   ]
  },
  {
   "cell_type": "code",
   "execution_count": 63,
   "id": "403824d1",
   "metadata": {},
   "outputs": [
    {
     "data": {
      "text/plain": [
       "(13320, 9)"
      ]
     },
     "execution_count": 63,
     "metadata": {},
     "output_type": "execute_result"
    }
   ],
   "source": [
    "ds.shape"
   ]
  },
  {
   "cell_type": "code",
   "execution_count": 64,
   "id": "36f6ef96",
   "metadata": {},
   "outputs": [
    {
     "data": {
      "text/plain": [
       "area_type          0\n",
       "availability       0\n",
       "location           1\n",
       "size              16\n",
       "society         5502\n",
       "total_sqft         0\n",
       "bath              73\n",
       "balcony          609\n",
       "price              0\n",
       "dtype: int64"
      ]
     },
     "execution_count": 64,
     "metadata": {},
     "output_type": "execute_result"
    }
   ],
   "source": [
    "ds.isnull().sum()"
   ]
  },
  {
   "cell_type": "code",
   "execution_count": 65,
   "id": "f6c9fc34",
   "metadata": {},
   "outputs": [],
   "source": [
    "ds_clean1= ds.dropna()"
   ]
  },
  {
   "cell_type": "code",
   "execution_count": 66,
   "id": "1e5a26df",
   "metadata": {},
   "outputs": [
    {
     "data": {
      "text/plain": [
       "area_type       0\n",
       "availability    0\n",
       "location        0\n",
       "size            0\n",
       "society         0\n",
       "total_sqft      0\n",
       "bath            0\n",
       "balcony         0\n",
       "price           0\n",
       "dtype: int64"
      ]
     },
     "execution_count": 66,
     "metadata": {},
     "output_type": "execute_result"
    }
   ],
   "source": [
    "ds_clean1.isnull().sum()"
   ]
  },
  {
   "cell_type": "markdown",
   "id": "faa622e0",
   "metadata": {},
   "source": [
    "# Identification of categorical variables"
   ]
  },
  {
   "cell_type": "code",
   "execution_count": 67,
   "id": "e046a43e",
   "metadata": {},
   "outputs": [
    {
     "name": "stdout",
     "output_type": "stream",
     "text": [
      "<class 'pandas.core.frame.DataFrame'>\n",
      "Int64Index: 7496 entries, 0 to 13318\n",
      "Data columns (total 9 columns):\n",
      " #   Column        Non-Null Count  Dtype  \n",
      "---  ------        --------------  -----  \n",
      " 0   area_type     7496 non-null   object \n",
      " 1   availability  7496 non-null   object \n",
      " 2   location      7496 non-null   object \n",
      " 3   size          7496 non-null   object \n",
      " 4   society       7496 non-null   object \n",
      " 5   total_sqft    7496 non-null   object \n",
      " 6   bath          7496 non-null   float64\n",
      " 7   balcony       7496 non-null   float64\n",
      " 8   price         7496 non-null   float64\n",
      "dtypes: float64(3), object(6)\n",
      "memory usage: 585.6+ KB\n"
     ]
    }
   ],
   "source": [
    "ds_clean1.info()"
   ]
  },
  {
   "cell_type": "code",
   "execution_count": 68,
   "id": "8499212a",
   "metadata": {},
   "outputs": [
    {
     "data": {
      "text/plain": [
       "array(['2 BHK', '4 Bedroom', '3 BHK', '3 Bedroom', '1 RK', '4 BHK',\n",
       "       '1 BHK', '5 BHK', '11 BHK', '5 Bedroom', '9 BHK', '2 Bedroom',\n",
       "       '6 BHK', '7 BHK', '6 Bedroom'], dtype=object)"
      ]
     },
     "execution_count": 68,
     "metadata": {},
     "output_type": "execute_result"
    }
   ],
   "source": [
    "ds_clean1['size'].unique()\n"
   ]
  },
  {
   "cell_type": "code",
   "execution_count": 69,
   "id": "1712fcdc",
   "metadata": {},
   "outputs": [
    {
     "name": "stdout",
     "output_type": "stream",
     "text": [
      "Super built-up  Area    6017\n",
      "Built-up  Area          1158\n",
      "Plot  Area               269\n",
      "Carpet  Area              52\n",
      "Name: area_type, dtype: int64\n",
      "Ready To Move    5709\n",
      "18-Dec            180\n",
      "18-May            171\n",
      "19-Dec            157\n",
      "18-Apr            148\n",
      "                 ... \n",
      "20-Feb              1\n",
      "15-Jun              1\n",
      "20-Mar              1\n",
      "16-Mar              1\n",
      "14-Jul              1\n",
      "Name: availability, Length: 74, dtype: int64\n",
      "Whitefield         397\n",
      "Sarjapur  Road     310\n",
      "Electronic City    236\n",
      "Kanakpura Road     216\n",
      "Thanisandra        212\n",
      "                  ... \n",
      "Adarsh Nagar         1\n",
      "S R Layout           1\n",
      "Sadduguntepalya      1\n",
      "BCC Layout           1\n",
      "Abshot Layout        1\n",
      "Name: location, Length: 634, dtype: int64\n",
      "2 BHK        3411\n",
      "3 BHK        3012\n",
      "1 BHK         353\n",
      "4 BHK         347\n",
      "4 Bedroom     193\n",
      "3 Bedroom     120\n",
      "5 Bedroom      16\n",
      "2 Bedroom      16\n",
      "1 RK           10\n",
      "5 BHK           9\n",
      "6 BHK           3\n",
      "6 Bedroom       3\n",
      "11 BHK          1\n",
      "9 BHK           1\n",
      "7 BHK           1\n",
      "Name: size, dtype: int64\n",
      "GrrvaGr    80\n",
      "PrarePa    71\n",
      "Sryalan    59\n",
      "Prtates    58\n",
      "GMown E    56\n",
      "           ..\n",
      "SLnorMa     1\n",
      "Heatee      1\n",
      "Nihtsur     1\n",
      "TGjraVa     1\n",
      "RSntsAp     1\n",
      "Name: society, Length: 2592, dtype: int64\n",
      "1200           172\n",
      "1100           106\n",
      "1000            78\n",
      "1500            74\n",
      "1300            71\n",
      "              ... \n",
      "2383             1\n",
      "1103             1\n",
      "1145 - 1340      1\n",
      "3080             1\n",
      "4689             1\n",
      "Name: total_sqft, Length: 1682, dtype: int64\n",
      "2.0    4283\n",
      "3.0    2063\n",
      "4.0     458\n",
      "1.0     428\n",
      "5.0     184\n",
      "6.0      73\n",
      "7.0       4\n",
      "9.0       3\n",
      "Name: bath, dtype: int64\n",
      "2.0    3114\n",
      "1.0    2975\n",
      "3.0    1005\n",
      "0.0     402\n",
      "Name: balcony, dtype: int64\n",
      "75.00     182\n",
      "65.00     171\n",
      "55.00     157\n",
      "60.00     154\n",
      "45.00     148\n",
      "         ... \n",
      "34.98       1\n",
      "54.11       1\n",
      "67.90       1\n",
      "62.30       1\n",
      "488.00      1\n",
      "Name: price, Length: 1518, dtype: int64\n"
     ]
    }
   ],
   "source": [
    "for i in ds_clean1.columns:\n",
    "    print(ds_clean1[i].value_counts())\n",
    "    \n",
    "#i is iterating over individual columns"
   ]
  },
  {
   "cell_type": "markdown",
   "id": "692f60f3",
   "metadata": {},
   "source": [
    "We have to clean the size data as it has 2 bedroom and 2bhk sperately but im not going into fixing that as encoding is our focus"
   ]
  },
  {
   "cell_type": "markdown",
   "id": "7ce410d3",
   "metadata": {},
   "source": [
    "Continuous- price, totalsqft ||||||||||||||||||||||\n",
    "    Categorical dont need encoding- bath(already float), balcony(already float) |||||||||||||\n",
    "        Categorical need encoding-society,size,location,availability,area_type"
   ]
  },
  {
   "cell_type": "markdown",
   "id": "09870052",
   "metadata": {},
   "source": [
    "# Encoding categorical variables"
   ]
  },
  {
   "cell_type": "code",
   "execution_count": 37,
   "id": "5e26fda0",
   "metadata": {},
   "outputs": [],
   "source": [
    "from sklearn.preprocessing import LabelEncoder"
   ]
  },
  {
   "cell_type": "code",
   "execution_count": 39,
   "id": "2c0d1d88",
   "metadata": {},
   "outputs": [],
   "source": [
    "encoder=LabelEncoder()"
   ]
  },
  {
   "cell_type": "code",
   "execution_count": 85,
   "id": "5d784ab5",
   "metadata": {},
   "outputs": [],
   "source": [
    "ds_t=ds_clean1"
   ]
  },
  {
   "cell_type": "code",
   "execution_count": null,
   "id": "26bce955",
   "metadata": {},
   "outputs": [],
   "source": [
    "#pd.options.mode.chained_assignment = None                             # default='warn' #To remove the copy slice warning"
   ]
  },
  {
   "cell_type": "code",
   "execution_count": 89,
   "id": "37131811",
   "metadata": {},
   "outputs": [],
   "source": [
    "ds_t['size']=encoder.fit_transform(ds_t['size'])"
   ]
  },
  {
   "cell_type": "code",
   "execution_count": 90,
   "id": "086bc6d6",
   "metadata": {},
   "outputs": [
    {
     "data": {
      "text/html": [
       "<div>\n",
       "<style scoped>\n",
       "    .dataframe tbody tr th:only-of-type {\n",
       "        vertical-align: middle;\n",
       "    }\n",
       "\n",
       "    .dataframe tbody tr th {\n",
       "        vertical-align: top;\n",
       "    }\n",
       "\n",
       "    .dataframe thead th {\n",
       "        text-align: right;\n",
       "    }\n",
       "</style>\n",
       "<table border=\"1\" class=\"dataframe\">\n",
       "  <thead>\n",
       "    <tr style=\"text-align: right;\">\n",
       "      <th></th>\n",
       "      <th>area_type</th>\n",
       "      <th>availability</th>\n",
       "      <th>location</th>\n",
       "      <th>size</th>\n",
       "      <th>society</th>\n",
       "      <th>total_sqft</th>\n",
       "      <th>bath</th>\n",
       "      <th>balcony</th>\n",
       "      <th>price</th>\n",
       "    </tr>\n",
       "  </thead>\n",
       "  <tbody>\n",
       "    <tr>\n",
       "      <th>0</th>\n",
       "      <td>Super built-up  Area</td>\n",
       "      <td>19-Dec</td>\n",
       "      <td>Electronic City Phase II</td>\n",
       "      <td>3</td>\n",
       "      <td>3</td>\n",
       "      <td>1056</td>\n",
       "      <td>2.0</td>\n",
       "      <td>1.0</td>\n",
       "      <td>39.07</td>\n",
       "    </tr>\n",
       "    <tr>\n",
       "      <th>1</th>\n",
       "      <td>Plot  Area</td>\n",
       "      <td>Ready To Move</td>\n",
       "      <td>Chikka Tirupathi</td>\n",
       "      <td>8</td>\n",
       "      <td>8</td>\n",
       "      <td>2600</td>\n",
       "      <td>5.0</td>\n",
       "      <td>3.0</td>\n",
       "      <td>120.00</td>\n",
       "    </tr>\n",
       "    <tr>\n",
       "      <th>3</th>\n",
       "      <td>Super built-up  Area</td>\n",
       "      <td>Ready To Move</td>\n",
       "      <td>Lingadheeranahalli</td>\n",
       "      <td>5</td>\n",
       "      <td>5</td>\n",
       "      <td>1521</td>\n",
       "      <td>3.0</td>\n",
       "      <td>1.0</td>\n",
       "      <td>95.00</td>\n",
       "    </tr>\n",
       "    <tr>\n",
       "      <th>5</th>\n",
       "      <td>Super built-up  Area</td>\n",
       "      <td>Ready To Move</td>\n",
       "      <td>Whitefield</td>\n",
       "      <td>3</td>\n",
       "      <td>3</td>\n",
       "      <td>1170</td>\n",
       "      <td>2.0</td>\n",
       "      <td>1.0</td>\n",
       "      <td>38.00</td>\n",
       "    </tr>\n",
       "    <tr>\n",
       "      <th>11</th>\n",
       "      <td>Plot  Area</td>\n",
       "      <td>Ready To Move</td>\n",
       "      <td>Whitefield</td>\n",
       "      <td>8</td>\n",
       "      <td>8</td>\n",
       "      <td>2785</td>\n",
       "      <td>5.0</td>\n",
       "      <td>3.0</td>\n",
       "      <td>295.00</td>\n",
       "    </tr>\n",
       "  </tbody>\n",
       "</table>\n",
       "</div>"
      ],
      "text/plain": [
       "               area_type   availability                  location  size  \\\n",
       "0   Super built-up  Area         19-Dec  Electronic City Phase II     3   \n",
       "1             Plot  Area  Ready To Move          Chikka Tirupathi     8   \n",
       "3   Super built-up  Area  Ready To Move        Lingadheeranahalli     5   \n",
       "5   Super built-up  Area  Ready To Move                Whitefield     3   \n",
       "11            Plot  Area  Ready To Move                Whitefield     8   \n",
       "\n",
       "    society total_sqft  bath  balcony   price  \n",
       "0         3       1056   2.0      1.0   39.07  \n",
       "1         8       2600   5.0      3.0  120.00  \n",
       "3         5       1521   3.0      1.0   95.00  \n",
       "5         3       1170   2.0      1.0   38.00  \n",
       "11        8       2785   5.0      3.0  295.00  "
      ]
     },
     "execution_count": 90,
     "metadata": {},
     "output_type": "execute_result"
    }
   ],
   "source": [
    "ds_t.head()"
   ]
  },
  {
   "cell_type": "code",
   "execution_count": 92,
   "id": "1895f560",
   "metadata": {},
   "outputs": [],
   "source": [
    "ds_t['society']=encoder.fit_transform(ds_t['society'])"
   ]
  },
  {
   "cell_type": "code",
   "execution_count": 93,
   "id": "2529129d",
   "metadata": {},
   "outputs": [],
   "source": [
    "ds_t['area_type']=encoder.fit_transform(ds_t['area_type'])"
   ]
  },
  {
   "cell_type": "code",
   "execution_count": 94,
   "id": "652e819a",
   "metadata": {},
   "outputs": [],
   "source": [
    "ds_t['availability']=encoder.fit_transform(ds_t['availability'])"
   ]
  },
  {
   "cell_type": "code",
   "execution_count": 95,
   "id": "a76c82a4",
   "metadata": {},
   "outputs": [],
   "source": [
    "ds_t['location']=encoder.fit_transform(ds_t['location'])"
   ]
  },
  {
   "cell_type": "code",
   "execution_count": 96,
   "id": "8074c56f",
   "metadata": {},
   "outputs": [
    {
     "data": {
      "text/html": [
       "<div>\n",
       "<style scoped>\n",
       "    .dataframe tbody tr th:only-of-type {\n",
       "        vertical-align: middle;\n",
       "    }\n",
       "\n",
       "    .dataframe tbody tr th {\n",
       "        vertical-align: top;\n",
       "    }\n",
       "\n",
       "    .dataframe thead th {\n",
       "        text-align: right;\n",
       "    }\n",
       "</style>\n",
       "<table border=\"1\" class=\"dataframe\">\n",
       "  <thead>\n",
       "    <tr style=\"text-align: right;\">\n",
       "      <th></th>\n",
       "      <th>area_type</th>\n",
       "      <th>availability</th>\n",
       "      <th>location</th>\n",
       "      <th>size</th>\n",
       "      <th>society</th>\n",
       "      <th>total_sqft</th>\n",
       "      <th>bath</th>\n",
       "      <th>balcony</th>\n",
       "      <th>price</th>\n",
       "    </tr>\n",
       "  </thead>\n",
       "  <tbody>\n",
       "    <tr>\n",
       "      <th>0</th>\n",
       "      <td>3</td>\n",
       "      <td>35</td>\n",
       "      <td>210</td>\n",
       "      <td>3</td>\n",
       "      <td>3</td>\n",
       "      <td>1056</td>\n",
       "      <td>2.0</td>\n",
       "      <td>1.0</td>\n",
       "      <td>39.07</td>\n",
       "    </tr>\n",
       "    <tr>\n",
       "      <th>1</th>\n",
       "      <td>2</td>\n",
       "      <td>73</td>\n",
       "      <td>149</td>\n",
       "      <td>8</td>\n",
       "      <td>8</td>\n",
       "      <td>2600</td>\n",
       "      <td>5.0</td>\n",
       "      <td>3.0</td>\n",
       "      <td>120.00</td>\n",
       "    </tr>\n",
       "    <tr>\n",
       "      <th>3</th>\n",
       "      <td>3</td>\n",
       "      <td>73</td>\n",
       "      <td>387</td>\n",
       "      <td>5</td>\n",
       "      <td>5</td>\n",
       "      <td>1521</td>\n",
       "      <td>3.0</td>\n",
       "      <td>1.0</td>\n",
       "      <td>95.00</td>\n",
       "    </tr>\n",
       "    <tr>\n",
       "      <th>5</th>\n",
       "      <td>3</td>\n",
       "      <td>73</td>\n",
       "      <td>625</td>\n",
       "      <td>3</td>\n",
       "      <td>3</td>\n",
       "      <td>1170</td>\n",
       "      <td>2.0</td>\n",
       "      <td>1.0</td>\n",
       "      <td>38.00</td>\n",
       "    </tr>\n",
       "    <tr>\n",
       "      <th>11</th>\n",
       "      <td>2</td>\n",
       "      <td>73</td>\n",
       "      <td>625</td>\n",
       "      <td>8</td>\n",
       "      <td>8</td>\n",
       "      <td>2785</td>\n",
       "      <td>5.0</td>\n",
       "      <td>3.0</td>\n",
       "      <td>295.00</td>\n",
       "    </tr>\n",
       "  </tbody>\n",
       "</table>\n",
       "</div>"
      ],
      "text/plain": [
       "    area_type  availability  location  size  society total_sqft  bath  \\\n",
       "0           3            35       210     3        3       1056   2.0   \n",
       "1           2            73       149     8        8       2600   5.0   \n",
       "3           3            73       387     5        5       1521   3.0   \n",
       "5           3            73       625     3        3       1170   2.0   \n",
       "11          2            73       625     8        8       2785   5.0   \n",
       "\n",
       "    balcony   price  \n",
       "0       1.0   39.07  \n",
       "1       3.0  120.00  \n",
       "3       1.0   95.00  \n",
       "5       1.0   38.00  \n",
       "11      3.0  295.00  "
      ]
     },
     "execution_count": 96,
     "metadata": {},
     "output_type": "execute_result"
    }
   ],
   "source": [
    "ds_t.head()"
   ]
  },
  {
   "cell_type": "markdown",
   "id": "cef51837",
   "metadata": {},
   "source": [
    "As you can see all the categorical variables are now in numeric Label encoded form "
   ]
  }
 ],
 "metadata": {
  "kernelspec": {
   "display_name": "Python 3 (ipykernel)",
   "language": "python",
   "name": "python3"
  },
  "language_info": {
   "codemirror_mode": {
    "name": "ipython",
    "version": 3
   },
   "file_extension": ".py",
   "mimetype": "text/x-python",
   "name": "python",
   "nbconvert_exporter": "python",
   "pygments_lexer": "ipython3",
   "version": "3.8.8"
  }
 },
 "nbformat": 4,
 "nbformat_minor": 5
}
